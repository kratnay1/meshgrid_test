{
 "cells": [
  {
   "cell_type": "code",
   "execution_count": 9,
   "metadata": {},
   "outputs": [
    {
     "data": {
      "image/png": "[encoded data removed]",
      "text/plain": [
       "<Figure size 432x288 with 1 Axes>"
      ]
     },
     "metadata": {},
     "output_type": "display_data"
    }
   ],
   "source": [
    "import numpy as np\n",
    "import matplotlib.pyplot as plt\n",
    "\n",
    "def i(r):\n",
    "    # intensity(r)\n",
    "    return r\n",
    "\n",
    "x = np.arange(-5, 5, 0.1)\n",
    "y = np.arange(-5, 5, 0.1)\n",
    "xx, yy = np.meshgrid(x, y) \n",
    "# meshgrid separates x and y coordinates into their own 2d arrays so that any function on a grid is vectorized \n",
    "\n",
    "z = i(np.sqrt(xx**2 + yy**2))\n",
    "h = plt.contourf(x,y,z)"
   ]
  },
  {
   "cell_type": "code",
   "execution_count": 12,
   "metadata": {},
   "outputs": [
    {
     "name": "stdout",
     "output_type": "stream",
     "text": [
      "xx\n",
      " [[-5 -4 -3 -2 -1  0  1  2  3  4  5]\n",
      " [-5 -4 -3 -2 -1  0  1  2  3  4  5]\n",
      " [-5 -4 -3 -2 -1  0  1  2  3  4  5]\n",
      " [-5 -4 -3 -2 -1  0  1  2  3  4  5]\n",
      " [-5 -4 -3 -2 -1  0  1  2  3  4  5]\n",
      " [-5 -4 -3 -2 -1  0  1  2  3  4  5]\n",
      " [-5 -4 -3 -2 -1  0  1  2  3  4  5]\n",
      " [-5 -4 -3 -2 -1  0  1  2  3  4  5]\n",
      " [-5 -4 -3 -2 -1  0  1  2  3  4  5]\n",
      " [-5 -4 -3 -2 -1  0  1  2  3  4  5]\n",
      " [-5 -4 -3 -2 -1  0  1  2  3  4  5]] \n",
      "\n",
      " yy\n",
      " [[-5 -5 -5 -5 -5 -5 -5 -5 -5 -5 -5]\n",
      " [-4 -4 -4 -4 -4 -4 -4 -4 -4 -4 -4]\n",
      " [-3 -3 -3 -3 -3 -3 -3 -3 -3 -3 -3]\n",
      " [-2 -2 -2 -2 -2 -2 -2 -2 -2 -2 -2]\n",
      " [-1 -1 -1 -1 -1 -1 -1 -1 -1 -1 -1]\n",
      " [ 0  0  0  0  0  0  0  0  0  0  0]\n",
      " [ 1  1  1  1  1  1  1  1  1  1  1]\n",
      " [ 2  2  2  2  2  2  2  2  2  2  2]\n",
      " [ 3  3  3  3  3  3  3  3  3  3  3]\n",
      " [ 4  4  4  4  4  4  4  4  4  4  4]\n",
      " [ 5  5  5  5  5  5  5  5  5  5  5]]\n",
      "\n",
      " ~sqrt(xx**2 + yy**2)\n",
      "[[7 6 6 5 5 5 5 5 6 6 7]\n",
      " [6 6 5 4 4 4 4 4 5 6 6]\n",
      " [6 5 4 4 3 3 3 4 4 5 6]\n",
      " [5 4 4 3 2 2 2 3 4 4 5]\n",
      " [5 4 3 2 1 1 1 2 3 4 5]\n",
      " [5 4 3 2 1 0 1 2 3 4 5]\n",
      " [5 4 3 2 1 1 1 2 3 4 5]\n",
      " [5 4 4 3 2 2 2 3 4 4 5]\n",
      " [6 5 4 4 3 3 3 4 4 5 6]\n",
      " [6 6 5 4 4 4 4 4 5 6 6]\n",
      " [7 6 6 5 5 5 5 5 6 6 7]]\n"
     ]
    }
   ],
   "source": [
    "x = np.arange(-5, 6, 1)\n",
    "y = np.arange(-5, 6, 1)\n",
    "xx, yy = np.meshgrid(x,y)\n",
    "\n",
    "print('xx\\n', xx, '\\n\\n yy\\n', yy)\n",
    "print('\\n ~sqrt(xx**2 + yy**2)')\n",
    "float_formatter = lambda x: \"%.0f\" % x\n",
    "np.set_printoptions(formatter={'float_kind':float_formatter})\n",
    "print(np.sqrt(xx**2 + yy**2))"
   ]
  }
 ],
 "metadata": {
  "kernelspec": {
   "display_name": "Python 3",
   "language": "python",
   "name": "python3"
  },
  "language_info": {
   "codemirror_mode": {
    "name": "ipython",
    "version": 3
   },
   "file_extension": ".py",
   "mimetype": "text/x-python",
   "name": "python",
   "nbconvert_exporter": "python",
   "pygments_lexer": "ipython3",
   "version": "3.6.4"
  }
 },
 "nbformat": 4,
 "nbformat_minor": 2
}
